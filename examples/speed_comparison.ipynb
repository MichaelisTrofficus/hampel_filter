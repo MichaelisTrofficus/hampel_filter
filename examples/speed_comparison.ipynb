{
 "cells": [
  {
   "cell_type": "code",
   "execution_count": 1,
   "id": "9c23a126-406e-4d6f-aff1-a5a5f47a2efc",
   "metadata": {},
   "outputs": [],
   "source": [
    "import numpy as np\n",
    "import pandas as pd\n",
    "from hampel import hampel\n",
    "import warnings\n",
    "\n",
    "warnings.filterwarnings(\"ignore\")\n",
    "\n",
    "def median_absolute_deviation(x):\n",
    "    \"\"\"\n",
    "    Returns the median absolute deviation from the window's median\n",
    "    :param x: Values in the window\n",
    "    :return: MAD\n",
    "    \"\"\"\n",
    "    return np.median(np.abs(x - np.median(x)))\n",
    "\n",
    "\n",
    "def hampel_legacy(ts, window_size=5, n=3, imputation=False):\n",
    "\n",
    "    \"\"\"\n",
    "    Median absolute deviation (MAD) outlier in Time Series\n",
    "    :param ts: a pandas Series object representing the timeseries\n",
    "    :param window_size: total window size will be computed as 2*window_size + 1\n",
    "    :param n: threshold, default is 3 (Pearson's rule)\n",
    "    :param imputation: If set to False, then the algorithm will be used for outlier detection.\n",
    "        If set to True, then the algorithm will also imput the outliers with the rolling median.\n",
    "    :return: Returns the outlier indices if imputation=False and the corrected timeseries if imputation=True\n",
    "    \"\"\"\n",
    "\n",
    "    if type(ts) != pd.Series:\n",
    "        raise ValueError(\"Timeserie object must be of type pandas.Series.\")\n",
    "\n",
    "    if type(window_size) != int:\n",
    "        raise ValueError(\"Window size must be of type integer.\")\n",
    "    else:\n",
    "        if window_size <= 0:\n",
    "            raise ValueError(\"Window size must be more than 0.\")\n",
    "\n",
    "    if type(n) != int:\n",
    "        raise ValueError(\"Window size must be of type integer.\")\n",
    "    else:\n",
    "        if n < 0:\n",
    "            raise ValueError(\"Window size must be equal or more than 0.\")\n",
    "\n",
    "    # Copy the Series object. This will be the cleaned timeserie\n",
    "    ts_cleaned = ts.copy()\n",
    "\n",
    "    # Constant scale factor, which depends on the distribution\n",
    "    # In this case, we assume normal distribution\n",
    "    k = 1.4826\n",
    "\n",
    "    rolling_ts = ts_cleaned.rolling(window_size*2, center=True)\n",
    "    rolling_median = rolling_ts.median().fillna(method='bfill').fillna(method='ffill')\n",
    "    rolling_sigma = k*(rolling_ts.apply(median_absolute_deviation).fillna(method='bfill').fillna(method='ffill'))\n",
    "\n",
    "    outlier_indices = list(\n",
    "        np.array(np.where(np.abs(ts_cleaned - rolling_median) >= (n * rolling_sigma))).flatten())\n",
    "\n",
    "    if imputation:\n",
    "        ts_cleaned[outlier_indices] = rolling_median[outlier_indices]\n",
    "        return ts_cleaned\n",
    "\n",
    "    return outlier_indices"
   ]
  },
  {
   "cell_type": "markdown",
   "id": "2095a0a8-feb6-47ca-a47b-85d359c15e74",
   "metadata": {},
   "source": [
    "# Synthetic Data"
   ]
  },
  {
   "cell_type": "code",
   "execution_count": 2,
   "id": "131700ff-75e6-4e6c-be5a-e898416e2621",
   "metadata": {},
   "outputs": [],
   "source": [
    "data = np.sin(np.linspace(0, 10, 100)) + np.random.normal(0, 0.1, 100)\n",
    "\n",
    "# Add outliers to the original data\n",
    "for index, value in zip([20, 40, 60, 80], [2.0, -1.4, 2.1, -0.5]):\n",
    "    data[index] = value\n",
    "\n",
    "data = pd.Series(data)"
   ]
  },
  {
   "cell_type": "markdown",
   "id": "0e47f8ee-168f-4e29-b340-c7bee4d6c87b",
   "metadata": {},
   "source": [
    "# Previous Implementation"
   ]
  },
  {
   "cell_type": "code",
   "execution_count": 3,
   "id": "c4d262d3-e334-4659-85c0-dfdd0f3bd5e3",
   "metadata": {},
   "outputs": [
    {
     "name": "stdout",
     "output_type": "stream",
     "text": [
      "6.54 ms ± 40.7 µs per loop (mean ± std. dev. of 7 runs, 100 loops each)\n"
     ]
    }
   ],
   "source": [
    "%%timeit\n",
    "hampel_legacy(data, imputation=True)"
   ]
  },
  {
   "cell_type": "code",
   "execution_count": 6,
   "id": "ce6448a1-8ade-430e-b2fb-d5cce3dd36fd",
   "metadata": {},
   "outputs": [
    {
     "data": {
      "text/plain": [
       "0    -0.045298\n",
       "1     0.096230\n",
       "2     0.229156\n",
       "3     0.307104\n",
       "4     0.371425\n",
       "        ...   \n",
       "95   -0.279893\n",
       "96   -0.277427\n",
       "97   -0.363055\n",
       "98   -0.545942\n",
       "99   -0.527614\n",
       "Length: 100, dtype: float64"
      ]
     },
     "execution_count": 6,
     "metadata": {},
     "output_type": "execute_result"
    }
   ],
   "source": [
    "hampel_legacy(data, imputation=True)"
   ]
  },
  {
   "cell_type": "code",
   "execution_count": 8,
   "id": "736176e2-9908-4cb2-b0d2-87efbd970a95",
   "metadata": {},
   "outputs": [
    {
     "data": {
      "text/plain": [
       "[20, 60, 80]"
      ]
     },
     "execution_count": 8,
     "metadata": {},
     "output_type": "execute_result"
    }
   ],
   "source": [
    "hampel_legacy(data)"
   ]
  },
  {
   "cell_type": "markdown",
   "id": "9c48b9c6-f702-4816-986a-a4f1b8fcb029",
   "metadata": {},
   "source": [
    "# New implementation"
   ]
  },
  {
   "cell_type": "code",
   "execution_count": 4,
   "id": "0241007c-4013-41b3-87ae-a7e8eb0483d8",
   "metadata": {},
   "outputs": [
    {
     "name": "stdout",
     "output_type": "stream",
     "text": [
      "1.83 ms ± 9.33 µs per loop (mean ± std. dev. of 7 runs, 1,000 loops each)\n"
     ]
    }
   ],
   "source": [
    "%%timeit\n",
    "hampel(data)"
   ]
  },
  {
   "cell_type": "code",
   "execution_count": 5,
   "id": "4105519f-1ee1-435f-b25f-457d3e18f70d",
   "metadata": {},
   "outputs": [
    {
     "data": {
      "text/plain": [
       "0    -0.045298\n",
       "1     0.096230\n",
       "2     0.229156\n",
       "3     0.307104\n",
       "4     0.371425\n",
       "        ...   \n",
       "95   -0.279893\n",
       "96   -0.277427\n",
       "97   -0.363055\n",
       "98   -0.545942\n",
       "99   -0.527614\n",
       "Length: 100, dtype: float32"
      ]
     },
     "execution_count": 5,
     "metadata": {},
     "output_type": "execute_result"
    }
   ],
   "source": [
    "hampel(data).filtered_data"
   ]
  },
  {
   "cell_type": "code",
   "execution_count": 7,
   "id": "f057b4a1-e95f-4e49-9ca0-19ff27454d4d",
   "metadata": {},
   "outputs": [
    {
     "data": {
      "text/plain": [
       "array([40, 60, 76, 80, 83], dtype=int32)"
      ]
     },
     "execution_count": 7,
     "metadata": {},
     "output_type": "execute_result"
    }
   ],
   "source": [
    "hampel(data).outlier_indices"
   ]
  }
 ],
 "metadata": {
  "kernelspec": {
   "display_name": "Python 3 (ipykernel)",
   "language": "python",
   "name": "python3"
  },
  "language_info": {
   "codemirror_mode": {
    "name": "ipython",
    "version": 3
   },
   "file_extension": ".py",
   "mimetype": "text/x-python",
   "name": "python",
   "nbconvert_exporter": "python",
   "pygments_lexer": "ipython3",
   "version": "3.9.13"
  }
 },
 "nbformat": 4,
 "nbformat_minor": 5
}
